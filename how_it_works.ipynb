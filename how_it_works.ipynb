{
 "cells": [
  {
   "cell_type": "markdown",
   "metadata": {},
   "source": [
    "Walkthrough of how spurious_detector.py would treat a buggy model and a regular model:"
   ]
  },
  {
   "cell_type": "markdown",
   "metadata": {},
   "source": [
    "Setting up both models:"
   ]
  },
  {
   "cell_type": "code",
   "execution_count": null,
   "metadata": {},
   "outputs": [],
   "source": [
    "# Initialize detectors for both models\n",
    "regular_detector = SpuriousDetector(\n",
    "    model=regular_model,\n",
    "    results_dir=results_dir,\n",
    "    concept_instance_name=concept_instance_name,\n",
    "    validation_data=validation_data\n",
    ")\n",
    "\n",
    "buggy_detector = SpuriousDetector(\n",
    "    model=buggy_model,\n",
    "    results_dir=results_dir,\n",
    "    concept_instance_name=concept_instance_name,\n",
    "    validation_data=validation_data\n",
    ")"
   ]
  },
  {
   "cell_type": "markdown",
   "metadata": {},
   "source": [
    "Concept Importance:\n",
    "- Measures how much the model relies on a concept to make its decisions\n",
    "- Calculated during concept extraction (CRAFT/ACE) by analyzing the model's internal representations\n",
    "- Independent of any specific prediction\n",
    "\n",
    "Correlation with Predictions:\n",
    "- Measures how often a concept appears together with positive predictions\n",
    "- Calculated by comparing concept presence with model outputs\n",
    "- Depends on the specific dataset and predictions"
   ]
  },
  {
   "cell_type": "markdown",
   "metadata": {},
   "source": [
    "This is the work that the detector does for each concept:"
   ]
  },
  {
   "cell_type": "code",
   "execution_count": null,
   "metadata": {},
   "outputs": [],
   "source": [
    "# Example for concept_idx = 0 (e.g., \"snow\" concept)\n",
    "\n",
    "# A. Gets pre-computed concept activations\n",
    "concept_activations = self.activations[:, concept_idx]  # How strongly \"snow\" appears in each image\n",
    "\n",
    "# B. Gets concept importance\n",
    "concept_importance = self.importances[concept_idx]  # How important \"snow\" is for classification\n",
    "\n",
    "# C. Gets model predictions\n",
    "predictions = []  # Confidence scores for \"corgi\" class\n",
    "for image in data_list:\n",
    "    pred = model(image)  # Get prediction confidence\n",
    "    predictions.append(pred)\n",
    "\n",
    "# D. Calculates correlation between concept and predictions\n",
    "correlation = np.corrcoef(concept_activations, predictions)[0, 1]\n",
    "\n",
    "# E. Calculates final score\n",
    "score = concept_importance * abs(correlation)"
   ]
  },
  {
   "cell_type": "markdown",
   "metadata": {},
   "source": [
    "<b>Expected Differences:</b>\n",
    "\n",
    "Regular Model:\n",
    "- Lower correlation between environmental concepts (like \"snow\") and predictions\n",
    "- More balanced importance scores across relevant dog features\n",
    "- Result: Lower spurious scores\n",
    "\n",
    "Buggy Model:\n",
    "- Higher correlation between environmental concepts and predictions\n",
    "- e.g., if model learned \"snow = corgi\", strong correlation between snow and corgi predictions\n",
    "- Higher importance scores for spurious features\n",
    "- Result: Higher spurious scores"
   ]
  }
 ],
 "metadata": {
  "language_info": {
   "name": "python"
  }
 },
 "nbformat": 4,
 "nbformat_minor": 2
}
