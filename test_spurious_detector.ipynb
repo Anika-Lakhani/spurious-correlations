{
 "cells": [
  {
   "cell_type": "code",
   "execution_count": null,
   "metadata": {},
   "outputs": [],
   "source": [
    "# 1. Import necessary libraries and modules\n",
    "from spurious_detector import SpuriousDetector\n",
    "import torch\n",
    "from Old.run_experiment_colab import load_model, set_model_name\n",
    "import os\n",
    "\n",
    "# 2. Set up paths and model\n",
    "results_dir = \"results\"  # or \"/content/drive/MyDrive/results\" if using Google Colab\n",
    "concept_instance_name = \"concept_extraction_1\"  # match this with what you used in run_experiment.ipynb\n",
    "model_name = \"resnet18.a1_in1k\"\n",
    "\n",
    "# 3. Load the model\n",
    "set_model_name(model_name)\n",
    "normal_model = load_model(model_name)\n",
    "\n",
    "# 4. Load validation data (use the same data loading function from run_experiment.ipynb)\n",
    "from Old.run_experiment_colab import load_data\n",
    "validation_data = load_data()  # adjust parameters as needed\n",
    "\n",
    "# 5. Before running the detector, verify files exist\n",
    "required_files = [\n",
    "    os.path.join(results_dir, concept_instance_name, \"Concepts.npy\"),\n",
    "    os.path.join(results_dir, concept_instance_name, \"Importances.npy\"),\n",
    "    os.path.join(results_dir, concept_instance_name, \"Activations.npy\"),\n",
    "    os.path.join(results_dir, concept_instance_name, \"data_list.pt\"),\n",
    "    os.path.join(results_dir, concept_instance_name, \"data_list_no_transforms.pt\")\n",
    "]\n",
    "\n",
    "for file_path in required_files:\n",
    "    if not os.path.exists(file_path):\n",
    "        print(f\"Missing required file: {file_path}\")\n",
    "        print(\"Please run concept extraction in run_experiment.ipynb first\")\n",
    "        break\n",
    "else:\n",
    "    # 6. Initialize and run the detector\n",
    "    detector = SpuriousDetector(\n",
    "        model=normal_model,\n",
    "        results_dir=results_dir,\n",
    "        concept_instance_name=concept_instance_name,\n",
    "        validation_data=validation_data\n",
    "    )\n",
    "\n",
    "    # 7. Find spurious concepts\n",
    "    spurious_concepts = detector.identify_spurious_concepts(threshold=0.5)\n",
    "    print(\"Found spurious concepts:\", spurious_concepts)\n",
    "\n",
    "    # 8. Save results\n",
    "    detector.save_results(results_dir, \"normal_model_analysis\")"
   ]
  }
 ],
 "metadata": {
  "language_info": {
   "name": "python"
  }
 },
 "nbformat": 4,
 "nbformat_minor": 2
}
